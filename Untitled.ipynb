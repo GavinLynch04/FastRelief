{
 "cells": [
  {
   "cell_type": "code",
   "execution_count": 1,
   "id": "fa5fcbaf",
   "metadata": {},
   "outputs": [
    {
     "name": "stdout",
     "output_type": "stream",
     "text": [
      "NVIDIA GPU detected. Including GPU benchmarks.\n",
      "\n",
      "--- Warming up JIT compilers ---\n",
      "  Warming up fast_relief.ReliefF (CPU)...\n",
      "  Warming up fast_relief.SURF (CPU)...\n"
     ]
    },
    {
     "name": "stderr",
     "output_type": "stream",
     "text": [
      "/tmp/ipykernel_60652/4188120198.py:74: UserWarning:   > Warm-up FAILED for fast_relief.ReliefF (CPU). Reason: _relieff_cpu_host_caller() takes 4 positional arguments but 5 were given\n",
      "  warnings.warn(f\"  > Warm-up FAILED for {name}. Reason: {e}\")\n",
      "/home/galynch/.local/lib/python3.10/site-packages/numba/np/ufunc/parallel.py:371: NumbaWarning: \u001b[1mThe TBB threading layer requires TBB version 2021 update 6 or later i.e., TBB_INTERFACE_VERSION >= 12060. Found TBB_INTERFACE_VERSION = 12050. The TBB threading layer is disabled.\u001b[0m\n",
      "  warnings.warn(problem)\n"
     ]
    },
    {
     "name": "stdout",
     "output_type": "stream",
     "text": [
      "  Warming up fast_relief.SURF* (CPU)...\n",
      "  Warming up fast_relief.MultiSURF (CPU)...\n",
      "  Warming up fast_relief.MultiSURF* (CPU)...\n",
      "  Warming up fast_relief.ReliefF (GPU)...\n",
      "  Warming up fast_relief.SURF (GPU)...\n",
      "  Warming up fast_relief.SURF* (GPU)...\n",
      "  Warming up fast_relief.MultiSURF (GPU)...\n"
     ]
    },
    {
     "name": "stderr",
     "output_type": "stream",
     "text": [
      "/tmp/ipykernel_60652/4188120198.py:74: UserWarning:   > Warm-up FAILED for fast_relief.ReliefF (GPU). Reason: _relieff_gpu_host_caller() takes 4 positional arguments but 5 were given\n",
      "  warnings.warn(f\"  > Warm-up FAILED for {name}. Reason: {e}\")\n"
     ]
    },
    {
     "name": "stdout",
     "output_type": "stream",
     "text": [
      "  Warming up fast_relief.MultiSURF* (GPU)...\n",
      "--- Warm-up complete ---\n",
      "\n",
      "--- Running Scenario: p >> n (Many Features) ---\n",
      "\n",
      "Generating data: 100 samples, 200 features\n",
      "  Benchmarking skrebate.ReliefF (Run 1/1)...\n",
      "  Benchmarking skrebate.SURF (Run 1/1)...\n",
      "  Benchmarking skrebate.SURF* (Run 1/1)...\n",
      "  Benchmarking skrebate.MultiSURF (Run 1/1)...\n",
      "  Benchmarking skrebate.MultiSURF* (Run 1/1)...\n",
      "  Benchmarking fast_relief.ReliefF (CPU) (Run 1/1)...\n",
      "  Benchmarking fast_relief.SURF (CPU) (Run 1/1)...\n",
      "  Benchmarking fast_relief.SURF* (CPU) (Run 1/1)...\n"
     ]
    },
    {
     "name": "stderr",
     "output_type": "stream",
     "text": [
      "/tmp/ipykernel_60652/4188120198.py:100: UserWarning:   > FAILED: fast_relief.ReliefF (CPU) on 100x200. Reason: _relieff_cpu_host_caller() takes 4 positional arguments but 5 were given\n",
      "  warnings.warn(f\"  > FAILED: {name} on {n_samples}x{n_features}. Reason: {e}\")\n"
     ]
    },
    {
     "name": "stdout",
     "output_type": "stream",
     "text": [
      "  Benchmarking fast_relief.MultiSURF (CPU) (Run 1/1)...\n",
      "  Benchmarking fast_relief.MultiSURF* (CPU) (Run 1/1)...\n",
      "  Benchmarking fast_relief.ReliefF (GPU) (Run 1/1)...\n",
      "  Benchmarking fast_relief.SURF (GPU) (Run 1/1)...\n",
      "  Benchmarking fast_relief.SURF* (GPU) (Run 1/1)...\n",
      "  Benchmarking fast_relief.MultiSURF (GPU) (Run 1/1)...\n"
     ]
    },
    {
     "name": "stderr",
     "output_type": "stream",
     "text": [
      "/tmp/ipykernel_60652/4188120198.py:100: UserWarning:   > FAILED: fast_relief.ReliefF (GPU) on 100x200. Reason: _relieff_gpu_host_caller() takes 4 positional arguments but 5 were given\n",
      "  warnings.warn(f\"  > FAILED: {name} on {n_samples}x{n_features}. Reason: {e}\")\n"
     ]
    },
    {
     "name": "stdout",
     "output_type": "stream",
     "text": [
      "  Benchmarking fast_relief.MultiSURF* (GPU) (Run 1/1)...\n",
      "\n",
      "Generating data: 100 samples, 400 features\n",
      "  Benchmarking skrebate.ReliefF (Run 1/1)...\n",
      "  Benchmarking skrebate.SURF (Run 1/1)...\n",
      "  Benchmarking skrebate.SURF* (Run 1/1)...\n",
      "  Benchmarking skrebate.MultiSURF (Run 1/1)...\n",
      "  Benchmarking skrebate.MultiSURF* (Run 1/1)...\n",
      "  Benchmarking fast_relief.ReliefF (CPU) (Run 1/1)...\n",
      "  Benchmarking fast_relief.SURF (CPU) (Run 1/1)...\n",
      "  Benchmarking fast_relief.SURF* (CPU) (Run 1/1)...\n",
      "  Benchmarking fast_relief.MultiSURF (CPU) (Run 1/1)...\n",
      "  Benchmarking fast_relief.MultiSURF* (CPU) (Run 1/1)...\n",
      "  Benchmarking fast_relief.ReliefF (GPU) (Run 1/1)...\n"
     ]
    },
    {
     "name": "stderr",
     "output_type": "stream",
     "text": [
      "/tmp/ipykernel_60652/4188120198.py:100: UserWarning:   > FAILED: fast_relief.ReliefF (CPU) on 100x400. Reason: _relieff_cpu_host_caller() takes 4 positional arguments but 5 were given\n",
      "  warnings.warn(f\"  > FAILED: {name} on {n_samples}x{n_features}. Reason: {e}\")\n",
      "/tmp/ipykernel_60652/4188120198.py:100: UserWarning:   > FAILED: fast_relief.ReliefF (GPU) on 100x400. Reason: _relieff_gpu_host_caller() takes 4 positional arguments but 5 were given\n",
      "  warnings.warn(f\"  > FAILED: {name} on {n_samples}x{n_features}. Reason: {e}\")\n"
     ]
    },
    {
     "name": "stdout",
     "output_type": "stream",
     "text": [
      "  Benchmarking fast_relief.SURF (GPU) (Run 1/1)...\n",
      "  Benchmarking fast_relief.SURF* (GPU) (Run 1/1)...\n",
      "  Benchmarking fast_relief.MultiSURF (GPU) (Run 1/1)...\n",
      "  Benchmarking fast_relief.MultiSURF* (GPU) (Run 1/1)...\n",
      "\n",
      "Generating data: 100 samples, 600 features\n",
      "  Benchmarking skrebate.ReliefF (Run 1/1)...\n",
      "  Benchmarking skrebate.SURF (Run 1/1)...\n",
      "  Benchmarking skrebate.SURF* (Run 1/1)...\n",
      "  Benchmarking skrebate.MultiSURF (Run 1/1)...\n",
      "  Benchmarking skrebate.MultiSURF* (Run 1/1)...\n",
      "  Benchmarking fast_relief.ReliefF (CPU) (Run 1/1)...\n",
      "  Benchmarking fast_relief.SURF (CPU) (Run 1/1)...\n",
      "  Benchmarking fast_relief.SURF* (CPU) (Run 1/1)...\n"
     ]
    },
    {
     "name": "stderr",
     "output_type": "stream",
     "text": [
      "/tmp/ipykernel_60652/4188120198.py:100: UserWarning:   > FAILED: fast_relief.ReliefF (CPU) on 100x600. Reason: _relieff_cpu_host_caller() takes 4 positional arguments but 5 were given\n",
      "  warnings.warn(f\"  > FAILED: {name} on {n_samples}x{n_features}. Reason: {e}\")\n"
     ]
    },
    {
     "name": "stdout",
     "output_type": "stream",
     "text": [
      "  Benchmarking fast_relief.MultiSURF (CPU) (Run 1/1)...\n",
      "  Benchmarking fast_relief.MultiSURF* (CPU) (Run 1/1)...\n",
      "  Benchmarking fast_relief.ReliefF (GPU) (Run 1/1)...\n",
      "  Benchmarking fast_relief.SURF (GPU) (Run 1/1)...\n",
      "  Benchmarking fast_relief.SURF* (GPU) (Run 1/1)...\n"
     ]
    },
    {
     "name": "stderr",
     "output_type": "stream",
     "text": [
      "/tmp/ipykernel_60652/4188120198.py:100: UserWarning:   > FAILED: fast_relief.ReliefF (GPU) on 100x600. Reason: _relieff_gpu_host_caller() takes 4 positional arguments but 5 were given\n",
      "  warnings.warn(f\"  > FAILED: {name} on {n_samples}x{n_features}. Reason: {e}\")\n"
     ]
    },
    {
     "name": "stdout",
     "output_type": "stream",
     "text": [
      "  Benchmarking fast_relief.MultiSURF (GPU) (Run 1/1)...\n",
      "  Benchmarking fast_relief.MultiSURF* (GPU) (Run 1/1)...\n",
      "\n",
      "Generating data: 100 samples, 800 features\n",
      "  Benchmarking skrebate.ReliefF (Run 1/1)...\n",
      "  Benchmarking skrebate.SURF (Run 1/1)...\n",
      "  Benchmarking skrebate.SURF* (Run 1/1)...\n",
      "  Benchmarking skrebate.MultiSURF (Run 1/1)...\n",
      "  Benchmarking skrebate.MultiSURF* (Run 1/1)...\n",
      "  Benchmarking fast_relief.ReliefF (CPU) (Run 1/1)...\n",
      "  Benchmarking fast_relief.SURF (CPU) (Run 1/1)...\n",
      "  Benchmarking fast_relief.SURF* (CPU) (Run 1/1)...\n"
     ]
    },
    {
     "name": "stderr",
     "output_type": "stream",
     "text": [
      "/tmp/ipykernel_60652/4188120198.py:100: UserWarning:   > FAILED: fast_relief.ReliefF (CPU) on 100x800. Reason: _relieff_cpu_host_caller() takes 4 positional arguments but 5 were given\n",
      "  warnings.warn(f\"  > FAILED: {name} on {n_samples}x{n_features}. Reason: {e}\")\n"
     ]
    },
    {
     "name": "stdout",
     "output_type": "stream",
     "text": [
      "  Benchmarking fast_relief.MultiSURF (CPU) (Run 1/1)...\n",
      "  Benchmarking fast_relief.MultiSURF* (CPU) (Run 1/1)...\n",
      "  Benchmarking fast_relief.ReliefF (GPU) (Run 1/1)...\n",
      "  Benchmarking fast_relief.SURF (GPU) (Run 1/1)...\n",
      "  Benchmarking fast_relief.SURF* (GPU) (Run 1/1)...\n"
     ]
    },
    {
     "name": "stderr",
     "output_type": "stream",
     "text": [
      "/tmp/ipykernel_60652/4188120198.py:100: UserWarning:   > FAILED: fast_relief.ReliefF (GPU) on 100x800. Reason: _relieff_gpu_host_caller() takes 4 positional arguments but 5 were given\n",
      "  warnings.warn(f\"  > FAILED: {name} on {n_samples}x{n_features}. Reason: {e}\")\n"
     ]
    },
    {
     "name": "stdout",
     "output_type": "stream",
     "text": [
      "  Benchmarking fast_relief.MultiSURF (GPU) (Run 1/1)...\n",
      "  Benchmarking fast_relief.MultiSURF* (GPU) (Run 1/1)...\n",
      "\n",
      "Generating data: 100 samples, 1000 features\n",
      "  Benchmarking skrebate.ReliefF (Run 1/1)...\n",
      "  Benchmarking skrebate.SURF (Run 1/1)...\n",
      "  Benchmarking skrebate.SURF* (Run 1/1)...\n",
      "  Benchmarking skrebate.MultiSURF (Run 1/1)...\n",
      "  Benchmarking skrebate.MultiSURF* (Run 1/1)...\n",
      "  Benchmarking fast_relief.ReliefF (CPU) (Run 1/1)...\n",
      "  Benchmarking fast_relief.SURF (CPU) (Run 1/1)...\n",
      "  Benchmarking fast_relief.SURF* (CPU) (Run 1/1)...\n"
     ]
    },
    {
     "name": "stderr",
     "output_type": "stream",
     "text": [
      "/tmp/ipykernel_60652/4188120198.py:100: UserWarning:   > FAILED: fast_relief.ReliefF (CPU) on 100x1000. Reason: _relieff_cpu_host_caller() takes 4 positional arguments but 5 were given\n",
      "  warnings.warn(f\"  > FAILED: {name} on {n_samples}x{n_features}. Reason: {e}\")\n"
     ]
    },
    {
     "name": "stdout",
     "output_type": "stream",
     "text": [
      "  Benchmarking fast_relief.MultiSURF (CPU) (Run 1/1)...\n",
      "  Benchmarking fast_relief.MultiSURF* (CPU) (Run 1/1)...\n",
      "  Benchmarking fast_relief.ReliefF (GPU) (Run 1/1)...\n",
      "  Benchmarking fast_relief.SURF (GPU) (Run 1/1)...\n",
      "  Benchmarking fast_relief.SURF* (GPU) (Run 1/1)...\n"
     ]
    },
    {
     "name": "stderr",
     "output_type": "stream",
     "text": [
      "/tmp/ipykernel_60652/4188120198.py:100: UserWarning:   > FAILED: fast_relief.ReliefF (GPU) on 100x1000. Reason: _relieff_gpu_host_caller() takes 4 positional arguments but 5 were given\n",
      "  warnings.warn(f\"  > FAILED: {name} on {n_samples}x{n_features}. Reason: {e}\")\n"
     ]
    },
    {
     "name": "stdout",
     "output_type": "stream",
     "text": [
      "  Benchmarking fast_relief.MultiSURF (GPU) (Run 1/1)...\n",
      "  Benchmarking fast_relief.MultiSURF* (GPU) (Run 1/1)...\n",
      "\n",
      "--- Running Scenario: n >> p (Many Samples) ---\n",
      "\n",
      "Generating data: 200 samples, 100 features\n",
      "  Benchmarking skrebate.ReliefF (Run 1/1)...\n",
      "  Benchmarking skrebate.SURF (Run 1/1)...\n",
      "  Benchmarking skrebate.SURF* (Run 1/1)...\n",
      "  Benchmarking skrebate.MultiSURF (Run 1/1)...\n",
      "  Benchmarking skrebate.MultiSURF* (Run 1/1)...\n",
      "  Benchmarking fast_relief.ReliefF (CPU) (Run 1/1)...\n",
      "  Benchmarking fast_relief.SURF (CPU) (Run 1/1)...\n",
      "  Benchmarking fast_relief.SURF* (CPU) (Run 1/1)...\n",
      "  Benchmarking fast_relief.MultiSURF (CPU) (Run 1/1)...\n"
     ]
    },
    {
     "name": "stderr",
     "output_type": "stream",
     "text": [
      "/tmp/ipykernel_60652/4188120198.py:119: UserWarning:   > FAILED: fast_relief.ReliefF (CPU) on 200x100. Reason: _relieff_cpu_host_caller() takes 4 positional arguments but 5 were given\n",
      "  warnings.warn(f\"  > FAILED: {name} on {n_samples}x{n_features}. Reason: {e}\")\n"
     ]
    },
    {
     "name": "stdout",
     "output_type": "stream",
     "text": [
      "  Benchmarking fast_relief.MultiSURF* (CPU) (Run 1/1)...\n",
      "  Benchmarking fast_relief.ReliefF (GPU) (Run 1/1)...\n",
      "  Benchmarking fast_relief.SURF (GPU) (Run 1/1)...\n",
      "  Benchmarking fast_relief.SURF* (GPU) (Run 1/1)...\n"
     ]
    },
    {
     "name": "stderr",
     "output_type": "stream",
     "text": [
      "/tmp/ipykernel_60652/4188120198.py:119: UserWarning:   > FAILED: fast_relief.ReliefF (GPU) on 200x100. Reason: _relieff_gpu_host_caller() takes 4 positional arguments but 5 were given\n",
      "  warnings.warn(f\"  > FAILED: {name} on {n_samples}x{n_features}. Reason: {e}\")\n"
     ]
    },
    {
     "name": "stdout",
     "output_type": "stream",
     "text": [
      "  Benchmarking fast_relief.MultiSURF (GPU) (Run 1/1)...\n",
      "  Benchmarking fast_relief.MultiSURF* (GPU) (Run 1/1)...\n",
      "\n",
      "Generating data: 400 samples, 100 features\n",
      "  Benchmarking skrebate.ReliefF (Run 1/1)...\n",
      "  Benchmarking skrebate.SURF (Run 1/1)...\n",
      "  Benchmarking skrebate.SURF* (Run 1/1)...\n",
      "  Benchmarking skrebate.MultiSURF (Run 1/1)...\n",
      "  Benchmarking skrebate.MultiSURF* (Run 1/1)...\n",
      "  Benchmarking fast_relief.ReliefF (CPU) (Run 1/1)...\n",
      "  Benchmarking fast_relief.SURF (CPU) (Run 1/1)...\n"
     ]
    },
    {
     "name": "stderr",
     "output_type": "stream",
     "text": [
      "/tmp/ipykernel_60652/4188120198.py:119: UserWarning:   > FAILED: fast_relief.ReliefF (CPU) on 400x100. Reason: _relieff_cpu_host_caller() takes 4 positional arguments but 5 were given\n",
      "  warnings.warn(f\"  > FAILED: {name} on {n_samples}x{n_features}. Reason: {e}\")\n"
     ]
    },
    {
     "name": "stdout",
     "output_type": "stream",
     "text": [
      "  Benchmarking fast_relief.SURF* (CPU) (Run 1/1)...\n",
      "  Benchmarking fast_relief.MultiSURF (CPU) (Run 1/1)...\n",
      "  Benchmarking fast_relief.MultiSURF* (CPU) (Run 1/1)...\n",
      "  Benchmarking fast_relief.ReliefF (GPU) (Run 1/1)...\n",
      "  Benchmarking fast_relief.SURF (GPU) (Run 1/1)...\n"
     ]
    },
    {
     "name": "stderr",
     "output_type": "stream",
     "text": [
      "/tmp/ipykernel_60652/4188120198.py:119: UserWarning:   > FAILED: fast_relief.ReliefF (GPU) on 400x100. Reason: _relieff_gpu_host_caller() takes 4 positional arguments but 5 were given\n",
      "  warnings.warn(f\"  > FAILED: {name} on {n_samples}x{n_features}. Reason: {e}\")\n"
     ]
    },
    {
     "name": "stdout",
     "output_type": "stream",
     "text": [
      "  Benchmarking fast_relief.SURF* (GPU) (Run 1/1)...\n",
      "  Benchmarking fast_relief.MultiSURF (GPU) (Run 1/1)...\n",
      "  Benchmarking fast_relief.MultiSURF* (GPU) (Run 1/1)...\n",
      "\n",
      "Generating data: 600 samples, 100 features\n",
      "  Benchmarking skrebate.ReliefF (Run 1/1)...\n",
      "  Benchmarking skrebate.SURF (Run 1/1)...\n",
      "  Benchmarking skrebate.SURF* (Run 1/1)...\n",
      "  Benchmarking skrebate.MultiSURF (Run 1/1)...\n",
      "  Benchmarking skrebate.MultiSURF* (Run 1/1)...\n",
      "  Benchmarking fast_relief.ReliefF (CPU) (Run 1/1)...\n",
      "  Benchmarking fast_relief.SURF (CPU) (Run 1/1)...\n"
     ]
    },
    {
     "name": "stderr",
     "output_type": "stream",
     "text": [
      "/tmp/ipykernel_60652/4188120198.py:119: UserWarning:   > FAILED: fast_relief.ReliefF (CPU) on 600x100. Reason: _relieff_cpu_host_caller() takes 4 positional arguments but 5 were given\n",
      "  warnings.warn(f\"  > FAILED: {name} on {n_samples}x{n_features}. Reason: {e}\")\n"
     ]
    },
    {
     "name": "stdout",
     "output_type": "stream",
     "text": [
      "  Benchmarking fast_relief.SURF* (CPU) (Run 1/1)...\n",
      "  Benchmarking fast_relief.MultiSURF (CPU) (Run 1/1)...\n",
      "  Benchmarking fast_relief.MultiSURF* (CPU) (Run 1/1)...\n",
      "  Benchmarking fast_relief.ReliefF (GPU) (Run 1/1)...\n",
      "  Benchmarking fast_relief.SURF (GPU) (Run 1/1)...\n"
     ]
    },
    {
     "name": "stderr",
     "output_type": "stream",
     "text": [
      "/tmp/ipykernel_60652/4188120198.py:119: UserWarning:   > FAILED: fast_relief.ReliefF (GPU) on 600x100. Reason: _relieff_gpu_host_caller() takes 4 positional arguments but 5 were given\n",
      "  warnings.warn(f\"  > FAILED: {name} on {n_samples}x{n_features}. Reason: {e}\")\n"
     ]
    },
    {
     "name": "stdout",
     "output_type": "stream",
     "text": [
      "  Benchmarking fast_relief.SURF* (GPU) (Run 1/1)...\n",
      "  Benchmarking fast_relief.MultiSURF (GPU) (Run 1/1)...\n",
      "  Benchmarking fast_relief.MultiSURF* (GPU) (Run 1/1)...\n",
      "\n",
      "Generating data: 800 samples, 100 features\n",
      "  Benchmarking skrebate.ReliefF (Run 1/1)...\n",
      "  Benchmarking skrebate.SURF (Run 1/1)...\n",
      "  Benchmarking skrebate.SURF* (Run 1/1)...\n",
      "  Benchmarking skrebate.MultiSURF (Run 1/1)...\n",
      "  Benchmarking skrebate.MultiSURF* (Run 1/1)...\n",
      "  Benchmarking fast_relief.ReliefF (CPU) (Run 1/1)...\n",
      "  Benchmarking fast_relief.SURF (CPU) (Run 1/1)...\n"
     ]
    },
    {
     "name": "stderr",
     "output_type": "stream",
     "text": [
      "/tmp/ipykernel_60652/4188120198.py:119: UserWarning:   > FAILED: fast_relief.ReliefF (CPU) on 800x100. Reason: _relieff_cpu_host_caller() takes 4 positional arguments but 5 were given\n",
      "  warnings.warn(f\"  > FAILED: {name} on {n_samples}x{n_features}. Reason: {e}\")\n"
     ]
    },
    {
     "name": "stdout",
     "output_type": "stream",
     "text": [
      "  Benchmarking fast_relief.SURF* (CPU) (Run 1/1)...\n",
      "  Benchmarking fast_relief.MultiSURF (CPU) (Run 1/1)...\n",
      "  Benchmarking fast_relief.MultiSURF* (CPU) (Run 1/1)...\n",
      "  Benchmarking fast_relief.ReliefF (GPU) (Run 1/1)...\n",
      "  Benchmarking fast_relief.SURF (GPU) (Run 1/1)...\n"
     ]
    },
    {
     "name": "stderr",
     "output_type": "stream",
     "text": [
      "/tmp/ipykernel_60652/4188120198.py:119: UserWarning:   > FAILED: fast_relief.ReliefF (GPU) on 800x100. Reason: _relieff_gpu_host_caller() takes 4 positional arguments but 5 were given\n",
      "  warnings.warn(f\"  > FAILED: {name} on {n_samples}x{n_features}. Reason: {e}\")\n"
     ]
    },
    {
     "ename": "KeyboardInterrupt",
     "evalue": "",
     "output_type": "error",
     "traceback": [
      "\u001b[0;31m---------------------------------------------------------------------------\u001b[0m",
      "\u001b[0;31mKeyboardInterrupt\u001b[0m                         Traceback (most recent call last)",
      "\u001b[0;32m~/.local/lib/python3.10/site-packages/joblib/parallel.py\u001b[0m in \u001b[0;36m_get_outputs\u001b[0;34m(self, iterator, pre_dispatch)\u001b[0m\n\u001b[1;32m   1594\u001b[0m             \u001b[0;32mwith\u001b[0m \u001b[0mself\u001b[0m\u001b[0;34m.\u001b[0m\u001b[0m_backend\u001b[0m\u001b[0;34m.\u001b[0m\u001b[0mretrieval_context\u001b[0m\u001b[0;34m(\u001b[0m\u001b[0;34m)\u001b[0m\u001b[0;34m:\u001b[0m\u001b[0;34m\u001b[0m\u001b[0;34m\u001b[0m\u001b[0m\n\u001b[0;32m-> 1595\u001b[0;31m                 \u001b[0;32myield\u001b[0m \u001b[0;32mfrom\u001b[0m \u001b[0mself\u001b[0m\u001b[0;34m.\u001b[0m\u001b[0m_retrieve\u001b[0m\u001b[0;34m(\u001b[0m\u001b[0;34m)\u001b[0m\u001b[0;34m\u001b[0m\u001b[0;34m\u001b[0m\u001b[0m\n\u001b[0m\u001b[1;32m   1596\u001b[0m \u001b[0;34m\u001b[0m\u001b[0m\n",
      "\u001b[0;32m~/.local/lib/python3.10/site-packages/joblib/parallel.py\u001b[0m in \u001b[0;36m_retrieve\u001b[0;34m(self)\u001b[0m\n\u001b[1;32m   1706\u001b[0m                     timeout=self.timeout) == TASK_PENDING)):\n\u001b[0;32m-> 1707\u001b[0;31m                 \u001b[0mtime\u001b[0m\u001b[0;34m.\u001b[0m\u001b[0msleep\u001b[0m\u001b[0;34m(\u001b[0m\u001b[0;36m0.01\u001b[0m\u001b[0;34m)\u001b[0m\u001b[0;34m\u001b[0m\u001b[0;34m\u001b[0m\u001b[0m\n\u001b[0m\u001b[1;32m   1708\u001b[0m                 \u001b[0;32mcontinue\u001b[0m\u001b[0;34m\u001b[0m\u001b[0;34m\u001b[0m\u001b[0m\n",
      "\u001b[0;31mKeyboardInterrupt\u001b[0m: ",
      "\nDuring handling of the above exception, another exception occurred:\n",
      "\u001b[0;31mKeyboardInterrupt\u001b[0m                         Traceback (most recent call last)",
      "\u001b[0;32m/tmp/ipykernel_60652/4188120198.py\u001b[0m in \u001b[0;36m<module>\u001b[0;34m\u001b[0m\n\u001b[1;32m    126\u001b[0m \u001b[0;34m\u001b[0m\u001b[0m\n\u001b[1;32m    127\u001b[0m \u001b[0;32mif\u001b[0m \u001b[0m__name__\u001b[0m \u001b[0;34m==\u001b[0m \u001b[0;34m\"__main__\"\u001b[0m\u001b[0;34m:\u001b[0m\u001b[0;34m\u001b[0m\u001b[0;34m\u001b[0m\u001b[0m\n\u001b[0;32m--> 128\u001b[0;31m     \u001b[0mmain\u001b[0m\u001b[0;34m(\u001b[0m\u001b[0;34m)\u001b[0m\u001b[0;34m\u001b[0m\u001b[0;34m\u001b[0m\u001b[0m\n\u001b[0m",
      "\u001b[0;32m/tmp/ipykernel_60652/4188120198.py\u001b[0m in \u001b[0;36mmain\u001b[0;34m()\u001b[0m\n\u001b[1;32m    111\u001b[0m                 \u001b[0mprint\u001b[0m\u001b[0;34m(\u001b[0m\u001b[0;34mf\"  Benchmarking {name} (Run {i+1}/{N_REPEATS})...\"\u001b[0m\u001b[0;34m)\u001b[0m\u001b[0;34m\u001b[0m\u001b[0;34m\u001b[0m\u001b[0m\n\u001b[1;32m    112\u001b[0m                 \u001b[0;32mtry\u001b[0m\u001b[0;34m:\u001b[0m\u001b[0;34m\u001b[0m\u001b[0;34m\u001b[0m\u001b[0m\n\u001b[0;32m--> 113\u001b[0;31m                     \u001b[0mruntime\u001b[0m \u001b[0;34m=\u001b[0m \u001b[0mrun_single_benchmark\u001b[0m\u001b[0;34m(\u001b[0m\u001b[0mclone\u001b[0m\u001b[0;34m(\u001b[0m\u001b[0mestimator\u001b[0m\u001b[0;34m)\u001b[0m\u001b[0;34m,\u001b[0m \u001b[0mX\u001b[0m\u001b[0;34m,\u001b[0m \u001b[0my\u001b[0m\u001b[0;34m)\u001b[0m\u001b[0;34m\u001b[0m\u001b[0;34m\u001b[0m\u001b[0m\n\u001b[0m\u001b[1;32m    114\u001b[0m                     results.append({\n\u001b[1;32m    115\u001b[0m                         \u001b[0;34m\"scenario\"\u001b[0m\u001b[0;34m:\u001b[0m \u001b[0;34m\"n >> p\"\u001b[0m\u001b[0;34m,\u001b[0m \u001b[0;34m\"algorithm\"\u001b[0m\u001b[0;34m:\u001b[0m \u001b[0mname\u001b[0m\u001b[0;34m,\u001b[0m \u001b[0;34m\"n_samples\"\u001b[0m\u001b[0;34m:\u001b[0m \u001b[0mn_samples\u001b[0m\u001b[0;34m,\u001b[0m\u001b[0;34m\u001b[0m\u001b[0;34m\u001b[0m\u001b[0m\n",
      "\u001b[0;32m/tmp/ipykernel_60652/4188120198.py\u001b[0m in \u001b[0;36mrun_single_benchmark\u001b[0;34m(estimator, X, y)\u001b[0m\n\u001b[1;32m     57\u001b[0m     \u001b[0;34m\"\"\"Measures the runtime of a single estimator fit.\"\"\"\u001b[0m\u001b[0;34m\u001b[0m\u001b[0;34m\u001b[0m\u001b[0m\n\u001b[1;32m     58\u001b[0m     \u001b[0mstart_time\u001b[0m \u001b[0;34m=\u001b[0m \u001b[0mtime\u001b[0m\u001b[0;34m.\u001b[0m\u001b[0mperf_counter\u001b[0m\u001b[0;34m(\u001b[0m\u001b[0;34m)\u001b[0m\u001b[0;34m\u001b[0m\u001b[0;34m\u001b[0m\u001b[0m\n\u001b[0;32m---> 59\u001b[0;31m     \u001b[0mestimator\u001b[0m\u001b[0;34m.\u001b[0m\u001b[0mfit\u001b[0m\u001b[0;34m(\u001b[0m\u001b[0mX\u001b[0m\u001b[0;34m,\u001b[0m \u001b[0my\u001b[0m\u001b[0;34m)\u001b[0m\u001b[0;34m\u001b[0m\u001b[0;34m\u001b[0m\u001b[0m\n\u001b[0m\u001b[1;32m     60\u001b[0m     \u001b[0mend_time\u001b[0m \u001b[0;34m=\u001b[0m \u001b[0mtime\u001b[0m\u001b[0;34m.\u001b[0m\u001b[0mperf_counter\u001b[0m\u001b[0;34m(\u001b[0m\u001b[0;34m)\u001b[0m\u001b[0;34m\u001b[0m\u001b[0;34m\u001b[0m\u001b[0m\n\u001b[1;32m     61\u001b[0m     \u001b[0;32mreturn\u001b[0m \u001b[0mend_time\u001b[0m \u001b[0;34m-\u001b[0m \u001b[0mstart_time\u001b[0m\u001b[0;34m\u001b[0m\u001b[0;34m\u001b[0m\u001b[0m\n",
      "\u001b[0;32m~/snap/snapd-desktop-integration/253/Desktop/FastRelief/src/fast_relief/SURF.py\u001b[0m in \u001b[0;36mfit\u001b[0;34m(self, x, y)\u001b[0m\n\u001b[1;32m    335\u001b[0m             \u001b[0mprint\u001b[0m\u001b[0;34m(\u001b[0m\u001b[0;34m\"Scoring features...\"\u001b[0m\u001b[0;34m)\u001b[0m\u001b[0;34m\u001b[0m\u001b[0;34m\u001b[0m\u001b[0m\n\u001b[1;32m    336\u001b[0m \u001b[0;34m\u001b[0m\u001b[0m\n\u001b[0;32m--> 337\u001b[0;31m         scores = Parallel(n_jobs=self.n_jobs)(\n\u001b[0m\u001b[1;32m    338\u001b[0m             delayed(_surf_star_compute_scores)(\n\u001b[1;32m    339\u001b[0m                 \u001b[0mi\u001b[0m\u001b[0;34m,\u001b[0m\u001b[0;34m\u001b[0m\u001b[0;34m\u001b[0m\u001b[0m\n",
      "\u001b[0;32m~/.local/lib/python3.10/site-packages/joblib/parallel.py\u001b[0m in \u001b[0;36m__call__\u001b[0;34m(self, iterable)\u001b[0m\n\u001b[1;32m   1950\u001b[0m         \u001b[0mnext\u001b[0m\u001b[0;34m(\u001b[0m\u001b[0moutput\u001b[0m\u001b[0;34m)\u001b[0m\u001b[0;34m\u001b[0m\u001b[0;34m\u001b[0m\u001b[0m\n\u001b[1;32m   1951\u001b[0m \u001b[0;34m\u001b[0m\u001b[0m\n\u001b[0;32m-> 1952\u001b[0;31m         \u001b[0;32mreturn\u001b[0m \u001b[0moutput\u001b[0m \u001b[0;32mif\u001b[0m \u001b[0mself\u001b[0m\u001b[0;34m.\u001b[0m\u001b[0mreturn_generator\u001b[0m \u001b[0;32melse\u001b[0m \u001b[0mlist\u001b[0m\u001b[0;34m(\u001b[0m\u001b[0moutput\u001b[0m\u001b[0;34m)\u001b[0m\u001b[0;34m\u001b[0m\u001b[0;34m\u001b[0m\u001b[0m\n\u001b[0m\u001b[1;32m   1953\u001b[0m \u001b[0;34m\u001b[0m\u001b[0m\n\u001b[1;32m   1954\u001b[0m     \u001b[0;32mdef\u001b[0m \u001b[0m__repr__\u001b[0m\u001b[0;34m(\u001b[0m\u001b[0mself\u001b[0m\u001b[0;34m)\u001b[0m\u001b[0;34m:\u001b[0m\u001b[0;34m\u001b[0m\u001b[0;34m\u001b[0m\u001b[0m\n",
      "\u001b[0;32m~/.local/lib/python3.10/site-packages/joblib/parallel.py\u001b[0m in \u001b[0;36m_get_outputs\u001b[0;34m(self, iterator, pre_dispatch)\u001b[0m\n\u001b[1;32m   1646\u001b[0m         \u001b[0;32mexcept\u001b[0m \u001b[0mBaseException\u001b[0m\u001b[0;34m:\u001b[0m\u001b[0;34m\u001b[0m\u001b[0;34m\u001b[0m\u001b[0m\n\u001b[1;32m   1647\u001b[0m             \u001b[0mself\u001b[0m\u001b[0;34m.\u001b[0m\u001b[0m_exception\u001b[0m \u001b[0;34m=\u001b[0m \u001b[0;32mTrue\u001b[0m\u001b[0;34m\u001b[0m\u001b[0;34m\u001b[0m\u001b[0m\n\u001b[0;32m-> 1648\u001b[0;31m             \u001b[0mself\u001b[0m\u001b[0;34m.\u001b[0m\u001b[0m_abort\u001b[0m\u001b[0;34m(\u001b[0m\u001b[0;34m)\u001b[0m\u001b[0;34m\u001b[0m\u001b[0;34m\u001b[0m\u001b[0m\n\u001b[0m\u001b[1;32m   1649\u001b[0m             \u001b[0;32mraise\u001b[0m\u001b[0;34m\u001b[0m\u001b[0;34m\u001b[0m\u001b[0m\n\u001b[1;32m   1650\u001b[0m         \u001b[0;32mfinally\u001b[0m\u001b[0;34m:\u001b[0m\u001b[0;34m\u001b[0m\u001b[0;34m\u001b[0m\u001b[0m\n",
      "\u001b[0;32m~/.local/lib/python3.10/site-packages/joblib/parallel.py\u001b[0m in \u001b[0;36m_abort\u001b[0;34m(self)\u001b[0m\n\u001b[1;32m   1557\u001b[0m             \u001b[0;31m# scheduling.\u001b[0m\u001b[0;34m\u001b[0m\u001b[0;34m\u001b[0m\u001b[0m\n\u001b[1;32m   1558\u001b[0m             \u001b[0mensure_ready\u001b[0m \u001b[0;34m=\u001b[0m \u001b[0mself\u001b[0m\u001b[0;34m.\u001b[0m\u001b[0m_managed_backend\u001b[0m\u001b[0;34m\u001b[0m\u001b[0;34m\u001b[0m\u001b[0m\n\u001b[0;32m-> 1559\u001b[0;31m             \u001b[0mbackend\u001b[0m\u001b[0;34m.\u001b[0m\u001b[0mabort_everything\u001b[0m\u001b[0;34m(\u001b[0m\u001b[0mensure_ready\u001b[0m\u001b[0;34m=\u001b[0m\u001b[0mensure_ready\u001b[0m\u001b[0;34m)\u001b[0m\u001b[0;34m\u001b[0m\u001b[0;34m\u001b[0m\u001b[0m\n\u001b[0m\u001b[1;32m   1560\u001b[0m         \u001b[0mself\u001b[0m\u001b[0;34m.\u001b[0m\u001b[0m_aborted\u001b[0m \u001b[0;34m=\u001b[0m \u001b[0;32mTrue\u001b[0m\u001b[0;34m\u001b[0m\u001b[0;34m\u001b[0m\u001b[0m\n\u001b[1;32m   1561\u001b[0m \u001b[0;34m\u001b[0m\u001b[0m\n",
      "\u001b[0;32m~/.local/lib/python3.10/site-packages/joblib/_parallel_backends.py\u001b[0m in \u001b[0;36mabort_everything\u001b[0;34m(self, ensure_ready)\u001b[0m\n\u001b[1;32m    630\u001b[0m         \"\"\"Shutdown the workers and restart a new one with the same parameters\n\u001b[1;32m    631\u001b[0m         \"\"\"\n\u001b[0;32m--> 632\u001b[0;31m         \u001b[0mself\u001b[0m\u001b[0;34m.\u001b[0m\u001b[0m_workers\u001b[0m\u001b[0;34m.\u001b[0m\u001b[0mterminate\u001b[0m\u001b[0;34m(\u001b[0m\u001b[0mkill_workers\u001b[0m\u001b[0;34m=\u001b[0m\u001b[0;32mTrue\u001b[0m\u001b[0;34m)\u001b[0m\u001b[0;34m\u001b[0m\u001b[0;34m\u001b[0m\u001b[0m\n\u001b[0m\u001b[1;32m    633\u001b[0m         \u001b[0mself\u001b[0m\u001b[0;34m.\u001b[0m\u001b[0m_workers\u001b[0m \u001b[0;34m=\u001b[0m \u001b[0;32mNone\u001b[0m\u001b[0;34m\u001b[0m\u001b[0;34m\u001b[0m\u001b[0m\n\u001b[1;32m    634\u001b[0m \u001b[0;34m\u001b[0m\u001b[0m\n",
      "\u001b[0;32m~/.local/lib/python3.10/site-packages/joblib/executor.py\u001b[0m in \u001b[0;36mterminate\u001b[0;34m(self, kill_workers)\u001b[0m\n\u001b[1;32m     73\u001b[0m     \u001b[0;32mdef\u001b[0m \u001b[0mterminate\u001b[0m\u001b[0;34m(\u001b[0m\u001b[0mself\u001b[0m\u001b[0;34m,\u001b[0m \u001b[0mkill_workers\u001b[0m\u001b[0;34m=\u001b[0m\u001b[0;32mFalse\u001b[0m\u001b[0;34m)\u001b[0m\u001b[0;34m:\u001b[0m\u001b[0;34m\u001b[0m\u001b[0;34m\u001b[0m\u001b[0m\n\u001b[1;32m     74\u001b[0m \u001b[0;34m\u001b[0m\u001b[0m\n\u001b[0;32m---> 75\u001b[0;31m         \u001b[0mself\u001b[0m\u001b[0;34m.\u001b[0m\u001b[0mshutdown\u001b[0m\u001b[0;34m(\u001b[0m\u001b[0mkill_workers\u001b[0m\u001b[0;34m=\u001b[0m\u001b[0mkill_workers\u001b[0m\u001b[0;34m)\u001b[0m\u001b[0;34m\u001b[0m\u001b[0;34m\u001b[0m\u001b[0m\n\u001b[0m\u001b[1;32m     76\u001b[0m \u001b[0;34m\u001b[0m\u001b[0m\n\u001b[1;32m     77\u001b[0m         \u001b[0;31m# When workers are killed in a brutal manner, they cannot execute the\u001b[0m\u001b[0;34m\u001b[0m\u001b[0;34m\u001b[0m\u001b[0m\n",
      "\u001b[0;32m~/.local/lib/python3.10/site-packages/joblib/externals/loky/process_executor.py\u001b[0m in \u001b[0;36mshutdown\u001b[0;34m(self, wait, kill_workers)\u001b[0m\n\u001b[1;32m   1301\u001b[0m             \u001b[0;31m# is shutting down.\u001b[0m\u001b[0;34m\u001b[0m\u001b[0;34m\u001b[0m\u001b[0m\n\u001b[1;32m   1302\u001b[0m             \u001b[0;32mwith\u001b[0m \u001b[0m_global_shutdown_lock\u001b[0m\u001b[0;34m:\u001b[0m\u001b[0;34m\u001b[0m\u001b[0;34m\u001b[0m\u001b[0m\n\u001b[0;32m-> 1303\u001b[0;31m                 \u001b[0mexecutor_manager_thread\u001b[0m\u001b[0;34m.\u001b[0m\u001b[0mjoin\u001b[0m\u001b[0;34m(\u001b[0m\u001b[0;34m)\u001b[0m\u001b[0;34m\u001b[0m\u001b[0;34m\u001b[0m\u001b[0m\n\u001b[0m\u001b[1;32m   1304\u001b[0m                 \u001b[0m_threads_wakeups\u001b[0m\u001b[0;34m.\u001b[0m\u001b[0mpop\u001b[0m\u001b[0;34m(\u001b[0m\u001b[0mexecutor_manager_thread\u001b[0m\u001b[0;34m,\u001b[0m \u001b[0;32mNone\u001b[0m\u001b[0;34m)\u001b[0m\u001b[0;34m\u001b[0m\u001b[0;34m\u001b[0m\u001b[0m\n\u001b[1;32m   1305\u001b[0m \u001b[0;34m\u001b[0m\u001b[0m\n",
      "\u001b[0;32m/usr/lib/python3.10/threading.py\u001b[0m in \u001b[0;36mjoin\u001b[0;34m(self, timeout)\u001b[0m\n\u001b[1;32m   1094\u001b[0m \u001b[0;34m\u001b[0m\u001b[0m\n\u001b[1;32m   1095\u001b[0m         \u001b[0;32mif\u001b[0m \u001b[0mtimeout\u001b[0m \u001b[0;32mis\u001b[0m \u001b[0;32mNone\u001b[0m\u001b[0;34m:\u001b[0m\u001b[0;34m\u001b[0m\u001b[0;34m\u001b[0m\u001b[0m\n\u001b[0;32m-> 1096\u001b[0;31m             \u001b[0mself\u001b[0m\u001b[0;34m.\u001b[0m\u001b[0m_wait_for_tstate_lock\u001b[0m\u001b[0;34m(\u001b[0m\u001b[0;34m)\u001b[0m\u001b[0;34m\u001b[0m\u001b[0;34m\u001b[0m\u001b[0m\n\u001b[0m\u001b[1;32m   1097\u001b[0m         \u001b[0;32melse\u001b[0m\u001b[0;34m:\u001b[0m\u001b[0;34m\u001b[0m\u001b[0;34m\u001b[0m\u001b[0m\n\u001b[1;32m   1098\u001b[0m             \u001b[0;31m# the behavior of a negative timeout isn't documented, but\u001b[0m\u001b[0;34m\u001b[0m\u001b[0;34m\u001b[0m\u001b[0m\n",
      "\u001b[0;32m/usr/lib/python3.10/threading.py\u001b[0m in \u001b[0;36m_wait_for_tstate_lock\u001b[0;34m(self, block, timeout)\u001b[0m\n\u001b[1;32m   1114\u001b[0m \u001b[0;34m\u001b[0m\u001b[0m\n\u001b[1;32m   1115\u001b[0m         \u001b[0;32mtry\u001b[0m\u001b[0;34m:\u001b[0m\u001b[0;34m\u001b[0m\u001b[0;34m\u001b[0m\u001b[0m\n\u001b[0;32m-> 1116\u001b[0;31m             \u001b[0;32mif\u001b[0m \u001b[0mlock\u001b[0m\u001b[0;34m.\u001b[0m\u001b[0macquire\u001b[0m\u001b[0;34m(\u001b[0m\u001b[0mblock\u001b[0m\u001b[0;34m,\u001b[0m \u001b[0mtimeout\u001b[0m\u001b[0;34m)\u001b[0m\u001b[0;34m:\u001b[0m\u001b[0;34m\u001b[0m\u001b[0;34m\u001b[0m\u001b[0m\n\u001b[0m\u001b[1;32m   1117\u001b[0m                 \u001b[0mlock\u001b[0m\u001b[0;34m.\u001b[0m\u001b[0mrelease\u001b[0m\u001b[0;34m(\u001b[0m\u001b[0;34m)\u001b[0m\u001b[0;34m\u001b[0m\u001b[0;34m\u001b[0m\u001b[0m\n\u001b[1;32m   1118\u001b[0m                 \u001b[0mself\u001b[0m\u001b[0;34m.\u001b[0m\u001b[0m_stop\u001b[0m\u001b[0;34m(\u001b[0m\u001b[0;34m)\u001b[0m\u001b[0;34m\u001b[0m\u001b[0;34m\u001b[0m\u001b[0m\n",
      "\u001b[0;31mKeyboardInterrupt\u001b[0m: "
     ]
    }
   ],
   "source": [
    "import time\n",
    "import warnings\n",
    "import pandas as pd\n",
    "import numpy as np\n",
    "from sklearn.base import clone\n",
    "\n",
    "# Import the estimators to compare\n",
    "from sklearn.datasets import make_classification\n",
    "from skrebate import ReliefF, SURF, SURFstar, MultiSURF as SkrebateMultiSURF, MultiSURFstar\n",
    "from src.fast_relief.ReliefF import ReliefF as FastReliefF\n",
    "from src.fast_relief.SURF import SURF as FastSURF\n",
    "from src.fast_relief.MultiSURF import MultiSURF as FastMultiSURF\n",
    "\n",
    "# Try to import CUDA to see if GPU is available\n",
    "try:\n",
    "    from numba import cuda\n",
    "    GPU_AVAILABLE = cuda.is_available()\n",
    "except ImportError:\n",
    "    GPU_AVAILABLE = False\n",
    "\n",
    "# --- Benchmark Configuration ---\n",
    "P_DOMINANT_SCENARIOS = { \"n_samples\": 100, \"n_features_range\": [200, 400, 600, 800, 1000] }\n",
    "N_DOMINANT_SCENARIOS = { \"n_features\": 100, \"n_samples_range\": [200, 400, 600, 800, 1000] }\n",
    "N_FEATURES_TO_SELECT = 10\n",
    "N_REPEATS = 1\n",
    "\n",
    "# --- Estimators to Test ---\n",
    "estimators = {\n",
    "    # skrebate estimators\n",
    "    \"skrebate.ReliefF\": ReliefF(n_features_to_select=N_FEATURES_TO_SELECT, n_neighbors=10, n_jobs=-1),\n",
    "    \"skrebate.SURF\": SURF(n_features_to_select=N_FEATURES_TO_SELECT, n_jobs=-1),\n",
    "    \"skrebate.SURF*\": SURFstar(n_features_to_select=N_FEATURES_TO_SELECT, n_jobs=-1),\n",
    "    \"skrebate.MultiSURF\": SkrebateMultiSURF(n_features_to_select=N_FEATURES_TO_SELECT, n_jobs=-1),\n",
    "    \"skrebate.MultiSURF*\": MultiSURFstar(n_features_to_select=N_FEATURES_TO_SELECT, n_jobs=-1),\n",
    "\n",
    "    # fast-relief CPU estimators\n",
    "    \"fast_relief.ReliefF (CPU)\": FastReliefF(n_features_to_select=N_FEATURES_TO_SELECT, backend='cpu'),\n",
    "    \"fast_relief.SURF (CPU)\": FastSURF(n_features_to_select=N_FEATURES_TO_SELECT),\n",
    "    \"fast_relief.SURF* (CPU)\": FastSURF(n_features_to_select=N_FEATURES_TO_SELECT, use_star=True),\n",
    "    \"fast_relief.MultiSURF (CPU)\": FastMultiSURF(n_features_to_select=N_FEATURES_TO_SELECT, backend='cpu'),\n",
    "    \"fast_relief.MultiSURF* (CPU)\": FastMultiSURF(n_features_to_select=N_FEATURES_TO_SELECT, backend='cpu', use_star=True),\n",
    "}\n",
    "\n",
    "if GPU_AVAILABLE:\n",
    "    print(\"NVIDIA GPU detected. Including GPU benchmarks.\")\n",
    "    estimators.update({\n",
    "        \"fast_relief.ReliefF (GPU)\": FastReliefF(n_features_to_select=N_FEATURES_TO_SELECT, backend='gpu'),\n",
    "        \"fast_relief.SURF (GPU)\": FastSURF(n_features_to_select=N_FEATURES_TO_SELECT),\n",
    "        \"fast_relief.SURF* (GPU)\": FastSURF(n_features_to_select=N_FEATURES_TO_SELECT, use_star=True),\n",
    "        \"fast_relief.MultiSURF (GPU)\": FastMultiSURF(n_features_to_select=N_FEATURES_TO_SELECT, backend='gpu'),\n",
    "        \"fast_relief.MultiSURF* (GPU)\": FastMultiSURF(n_features_to_select=N_FEATURES_TO_SELECT, backend='gpu', use_star=True),\n",
    "    })\n",
    "else:\n",
    "    print(\"No NVIDIA GPU detected. Skipping GPU benchmarks.\")\n",
    "\n",
    "def run_single_benchmark(estimator, X, y):\n",
    "    \"\"\"Measures the runtime of a single estimator fit.\"\"\"\n",
    "    start_time = time.perf_counter()\n",
    "    estimator.fit(X, y)\n",
    "    end_time = time.perf_counter()\n",
    "    return end_time - start_time\n",
    "\n",
    "def warmup_jit_compilers(estimators_dict):\n",
    "    \"\"\"Performs a 'warm-up' run on a small dataset to compile JIT functions.\"\"\"\n",
    "    print(\"\\n--- Warming up JIT compilers ---\")\n",
    "    X_warmup, y_warmup = make_classification(n_samples=10, n_features=10, random_state=42)\n",
    "\n",
    "    for name, estimator in estimators_dict.items():\n",
    "        if \"fast_relief\" in name:\n",
    "            print(f\"  Warming up {name}...\")\n",
    "            try:\n",
    "                clone(estimator).fit(X_warmup, y_warmup)\n",
    "            except Exception as e:\n",
    "                warnings.warn(f\"  > Warm-up FAILED for {name}. Reason: {e}\")\n",
    "    print(\"--- Warm-up complete ---\")\n",
    "\n",
    "\n",
    "def main():\n",
    "    \"\"\"Main function to run all benchmark scenarios.\"\"\"\n",
    "    results = []\n",
    "    warmup_jit_compilers(estimators)\n",
    "\n",
    "    # --- Run p >> n scenario ---\n",
    "    print(\"\\n--- Running Scenario: p >> n (Many Features) ---\")\n",
    "    n_samples = P_DOMINANT_SCENARIOS[\"n_samples\"]\n",
    "    for n_features in P_DOMINANT_SCENARIOS[\"n_features_range\"]:\n",
    "        print(f\"\\nGenerating data: {n_samples} samples, {n_features} features\")\n",
    "        X, y = make_classification(n_samples=n_samples, n_features=n_features, n_informative=20, n_redundant=100, random_state=42)\n",
    "\n",
    "        for name, estimator in estimators.items():\n",
    "            for i in range(N_REPEATS):\n",
    "                print(f\"  Benchmarking {name} (Run {i+1}/{N_REPEATS})...\")\n",
    "                try:\n",
    "                    runtime = run_single_benchmark(clone(estimator), X, y)\n",
    "                    results.append({\n",
    "                        \"scenario\": \"p >> n\", \"algorithm\": name, \"n_samples\": n_samples,\n",
    "                        \"n_features\": n_features, \"runtime\": runtime,\n",
    "                    })\n",
    "                except Exception as e:\n",
    "                    warnings.warn(f\"  > FAILED: {name} on {n_samples}x{n_features}. Reason: {e}\")\n",
    "\n",
    "    # --- Run n >> p scenario ---\n",
    "    print(\"\\n--- Running Scenario: n >> p (Many Samples) ---\")\n",
    "    n_features = N_DOMINANT_SCENARIOS[\"n_features\"]\n",
    "    for n_samples in N_DOMINANT_SCENARIOS[\"n_samples_range\"]:\n",
    "        print(f\"\\nGenerating data: {n_samples} samples, {n_features} features\")\n",
    "        X, y = make_classification(n_samples=n_samples, n_features=n_features, n_informative=20, n_redundant=50, random_state=42)\n",
    "\n",
    "        for name, estimator in estimators.items():\n",
    "             for i in range(N_REPEATS):\n",
    "                print(f\"  Benchmarking {name} (Run {i+1}/{N_REPEATS})...\")\n",
    "                try:\n",
    "                    runtime = run_single_benchmark(clone(estimator), X, y)\n",
    "                    results.append({\n",
    "                        \"scenario\": \"n >> p\", \"algorithm\": name, \"n_samples\": n_samples,\n",
    "                        \"n_features\": n_features, \"runtime\": runtime,\n",
    "                    })\n",
    "                except Exception as e:\n",
    "                    warnings.warn(f\"  > FAILED: {name} on {n_samples}x{n_features}. Reason: {e}\")\n",
    "\n",
    "    # --- Save results to CSV ---\n",
    "    df = pd.DataFrame(results)\n",
    "    output_file = \"benchmark_results.csv\"\n",
    "    df.to_csv(output_file, index=False)\n",
    "    print(f\"\\nBenchmarking complete. Results saved to '{output_file}'\")\n",
    "\n",
    "if __name__ == \"__main__\":\n",
    "    main()"
   ]
  },
  {
   "cell_type": "code",
   "execution_count": 13,
   "id": "05174a7d",
   "metadata": {},
   "outputs": [
    {
     "name": "stdout",
     "output_type": "stream",
     "text": [
      "/home/galynch/snap/snapd-desktop-integration/253/Desktop/FastRelief\n"
     ]
    }
   ],
   "source": []
  },
  {
   "cell_type": "code",
   "execution_count": 1,
   "id": "338b8c76",
   "metadata": {},
   "outputs": [
    {
     "name": "stdout",
     "output_type": "stream",
     "text": [
      "remote: Enumerating objects: 17, done.\u001b[K\n",
      "remote: Counting objects: 100% (17/17), done.\u001b[K\n",
      "remote: Compressing objects: 100% (8/8), done.\u001b[K\n",
      "remote: Total 11 (delta 3), reused 11 (delta 3), pack-reused 0 (from 0)\u001b[K\n",
      "Unpacking objects: 100% (11/11), 6.87 KiB | 1.37 MiB/s, done.\n",
      "From https://github.com/GavinLynch04/FastRelief\n",
      "   f8ef02f..a135780  main       -> origin/main\n",
      "Updating f8ef02f..a135780\n",
      "error: Your local changes to the following files would be overwritten by merge:\n",
      "\tbenchmarking/benchmarking.py\n",
      "\tsrc/fast_relief/ReliefF.py\n",
      "Please commit your changes or stash them before you merge.\n",
      "Aborting\n"
     ]
    }
   ],
   "source": [
    "!git pull"
   ]
  },
  {
   "cell_type": "code",
   "execution_count": null,
   "id": "355e43a4",
   "metadata": {},
   "outputs": [],
   "source": []
  }
 ],
 "metadata": {
  "kernelspec": {
   "display_name": "Python 3 (ipykernel)",
   "language": "python",
   "name": "python3"
  },
  "language_info": {
   "codemirror_mode": {
    "name": "ipython",
    "version": 3
   },
   "file_extension": ".py",
   "mimetype": "text/x-python",
   "name": "python",
   "nbconvert_exporter": "python",
   "pygments_lexer": "ipython3",
   "version": "3.10.12"
  }
 },
 "nbformat": 4,
 "nbformat_minor": 5
}
