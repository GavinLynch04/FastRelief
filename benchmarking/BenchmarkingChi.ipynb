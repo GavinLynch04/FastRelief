{
 "cells": [
  {
   "cell_type": "code",
   "execution_count": null,
   "id": "fc38dd64",
   "metadata": {},
   "outputs": [],
   "source": [
    "import timeit\n",
    "import numpy as np\n",
    "from sklearn.datasets import make_classification\n",
    "from sklearn.feature_selection import chi2 as chi2_sklearn\n",
    "from chi2 import chi2_numba\n",
    "\n",
    "# Set up the test parameters\n",
    "N_SAMPLES = 2000\n",
    "N_FEATURES = 2000\n",
    "N_CLASSES = 5\n",
    "RANDOM_STATE = 42\n",
    "\n",
    "print(\"Chi-Squared Implementation Benchmark\")\n",
    "print(\"-\" * 40)\n",
    "print(f\"Dataset shape: Samples={N_SAMPLES}, Features={N_FEATURES}, Classes={N_CLASSES}\")\n",
    "print(\"-\" * 40)\n",
    "\n",
    "# 1. Generate synthetic data\n",
    "X, y = make_classification(\n",
    "    n_samples=N_SAMPLES,\n",
    "    n_features=N_FEATURES,\n",
    "    n_informative=500,\n",
    "    n_redundant=500,\n",
    "    n_classes=N_CLASSES,\n",
    "    n_clusters_per_class=1,\n",
    "    random_state=RANDOM_STATE\n",
    ")\n",
    "# The Chi-squared test requires non-negative features (e.g., counts)\n",
    "X = np.abs(X * 100).astype(np.int64)\n",
    "\n",
    "# 2. Run the Numba implementation\n",
    "# First run is for JIT compilation (\"warm-up\") and is not timed.\n",
    "print(\"Compiling Numba function...\")\n",
    "chi2_numba(X, y)\n",
    "print(\"Compilation complete.\\n\")\n",
    "\n",
    "# Time the Numba implementation\n",
    "print(\"Timing Numba implementation...\")\n",
    "numba_time = timeit.timeit(lambda: chi2_numba(X, y), number=10)\n",
    "print(f\"Done.\")\n",
    "\n",
    "# 3. Run the scikit-learn implementation\n",
    "print(\"\\nTiming scikit-learn implementation...\")\n",
    "sklearn_time = timeit.timeit(lambda: chi2_sklearn(X, y), number=10)\n",
    "print(f\"Done.\")\n",
    "\n",
    "# 4. Verify that the results are the same\n",
    "chi2_n, p_n = chi2_numba(X, y)\n",
    "chi2_s, p_s = chi2_sklearn(X, y)\n",
    "\n",
    "assert np.allclose(chi2_n, chi2_s), \"Chi2 statistics do not match!\"\n",
    "assert np.allclose(p_n, p_s), \"P-values do not match!\"\n",
    "print(\"\\nCorrectness check passed: Results are identical.\")\n",
    "\n",
    "# 5. Report the results\n",
    "print(\"\\n\\n--- Benchmark Results ---\")\n",
    "print(f\"Scikit-learn time: {sklearn_time:.4f} seconds\")\n",
    "print(f\"Numba time:        {numba_time:.4f} seconds\")\n",
    "\n",
    "speedup = sklearn_time / numba_time\n",
    "print(f\"\\nNumba implementation is {speedup:.2f}x faster.\")"
   ]
  },
  {
   "cell_type": "code",
   "execution_count": 21,
   "id": "37ec6bc5",
   "metadata": {},
   "outputs": [
    {
     "name": "stdout",
     "output_type": "stream",
     "text": [
      "[main f8861a9] editing documentation\n",
      " 2 files changed, 60 insertions(+), 24 deletions(-)\n",
      "Enumerating objects: 13, done.\n",
      "Counting objects: 100% (13/13), done.\n",
      "Delta compression using up to 20 threads\n",
      "Compressing objects: 100% (7/7), done.\n",
      "Writing objects: 100% (7/7), 1.40 KiB | 1.40 MiB/s, done.\n",
      "Total 7 (delta 5), reused 0 (delta 0), pack-reused 0\n",
      "remote: Resolving deltas: 100% (5/5), completed with 5 local objects.\u001b[K\n",
      "To https://github.com/GavinLynch04/FastSelect.git\n",
      "   bdf68e1..f8861a9  main -> main\n"
     ]
    }
   ],
   "source": [
    "!git commit -a -m \"editing documentation\"\n",
    "!git push"
   ]
  },
  {
   "cell_type": "code",
   "execution_count": 20,
   "id": "cb3a8b72",
   "metadata": {},
   "outputs": [
    {
     "name": "stdout",
     "output_type": "stream",
     "text": [
      "On branch main\r\n",
      "Your branch is up to date with 'origin/main'.\r\n",
      "\r\n",
      "Changes not staged for commit:\r\n",
      "  (use \"git add <file>...\" to update what will be committed)\r\n",
      "  (use \"git restore <file>...\" to discard changes in working directory)\r\n",
      "\t\u001b[31mmodified:   BenchmarkingChi2.ipynb\u001b[m\r\n",
      "\r\n",
      "no changes added to commit (use \"git add\" and/or \"git commit -a\")\r\n"
     ]
    }
   ],
   "source": [
    "!git status"
   ]
  },
  {
   "cell_type": "code",
   "execution_count": 2,
   "id": "90b96260",
   "metadata": {},
   "outputs": [
    {
     "name": "stdout",
     "output_type": "stream",
     "text": [
      "Generating data: 200 samples, 30000 features, 10 states\n"
     ]
    },
    {
     "name": "stderr",
     "output_type": "stream",
     "text": [
      "100%|██████████| 100/100 [01:17<00:00,  1.30it/s]"
     ]
    },
    {
     "name": "stdout",
     "output_type": "stream",
     "text": [
      "\n",
      "--- Benchmarking: My mRMR (Numba) ---\n"
     ]
    },
    {
     "name": "stderr",
     "output_type": "stream",
     "text": [
      "\n"
     ]
    },
    {
     "name": "stdout",
     "output_type": "stream",
     "text": [
      "0.09353780746459961\n",
      "0.1338510513305664\n",
      "14.787329912185669\n",
      "13.700662612915039\n",
      "0.0888822078704834\n",
      "0.005830049514770508\n",
      "14.403152704238892\n",
      "13.65813136100769\n",
      "Runtime:         28.1610 seconds\n",
      "Peak Memory:     3919.29 MiB\n",
      "\n",
      "--- Benchmarking: mrmr_selection ---\n"
     ]
    },
    {
     "name": "stderr",
     "output_type": "stream",
     "text": [
      "100%|██████████| 100/100 [01:16<00:00,  1.30it/s]\n",
      "100%|██████████| 100/100 [01:17<00:00,  1.30it/s]"
     ]
    },
    {
     "name": "stdout",
     "output_type": "stream",
     "text": [
      "Runtime:         80.4362 seconds\n",
      "Peak Memory:     10783.03 MiB\n",
      "Selected features: ['feature_14359', 'feature_8572', 'feature_27641', 'feature_8815', 'feature_750', 'feature_25619', 'feature_23986', 'feature_779', 'feature_15863', 'feature_6542', 'feature_26689', 'feature_24495', 'feature_21456', 'feature_20010', 'feature_15369', 'feature_2547', 'feature_28715', 'feature_5952', 'feature_18604', 'feature_18134', 'feature_26530', 'feature_24761', 'feature_14483', 'feature_2903', 'feature_18104', 'feature_2456', 'feature_15887', 'feature_2395', 'feature_26080', 'feature_22716', 'feature_29384', 'feature_9407', 'feature_26671', 'feature_6528', 'feature_21765', 'feature_25982', 'feature_8532', 'feature_13764', 'feature_5235', 'feature_25017', 'feature_2024', 'feature_22234', 'feature_20758', 'feature_26367', 'feature_13031', 'feature_3449', 'feature_12657', 'feature_2460', 'feature_4322', 'feature_21733', 'feature_27963', 'feature_8873', 'feature_16673', 'feature_22962', 'feature_29013', 'feature_26809', 'feature_3764', 'feature_21745', 'feature_24161', 'feature_16300', 'feature_5229', 'feature_7159', 'feature_17892', 'feature_26482', 'feature_15163', 'feature_27861', 'feature_24128', 'feature_17094', 'feature_1514', 'feature_12567', 'feature_18710', 'feature_10369', 'feature_27003', 'feature_13379', 'feature_18136', 'feature_4351', 'feature_13750', 'feature_19984', 'feature_23453', 'feature_21483', 'feature_29298', 'feature_29638', 'feature_6362', 'feature_15600', 'feature_1929', 'feature_6525', 'feature_5531', 'feature_12143', 'feature_1850', 'feature_28694', 'feature_2382', 'feature_5161', 'feature_15946', 'feature_1471', 'feature_4271', 'feature_2227', 'feature_19350', 'feature_20693', 'feature_10860', 'feature_27220']\n"
     ]
    },
    {
     "name": "stderr",
     "output_type": "stream",
     "text": [
      "\n"
     ]
    }
   ],
   "source": [
    "# benchmark_mrmr.py\n",
    "import time\n",
    "import numpy as np\n",
    "import pandas as pd\n",
    "from memory_profiler import memory_usage\n",
    "\n",
    "# --- Import your local implementation ---\n",
    "# Adjust this path if your file structure is different\n",
    "from src.fast_select.mRMR import mRMR as My_mRMR\n",
    "\n",
    "# --- Import the benchmark target from its library ---\n",
    "from mrmr import mrmr_classif\n",
    "\n",
    "def generate_data(n_samples, n_features, n_states):\n",
    "    \"\"\"Creates a random discrete integer dataset.\"\"\"\n",
    "    print(f\"Generating data: {n_samples} samples, {n_features} features, {n_states} states\")\n",
    "    X = np.random.randint(0, n_states, size=(n_samples, n_features), dtype=np.int8)\n",
    "    y = np.random.randint(0, 2, size=n_samples, dtype=np.int8)\n",
    "    return X, y\n",
    "\n",
    "def benchmark_estimator(name, estimator, X, y):\n",
    "    \"\"\"Measures runtime and peak memory for an estimator's fit method.\"\"\"\n",
    "    print(f\"\\n--- Benchmarking: {name} ---\")\n",
    "\n",
    "    # Wrap the .fit() method in a lambda for the profiler\n",
    "    fit_func = lambda: estimator.fit(X, y)\n",
    "\n",
    "    # 1. Measure Peak Memory Usage\n",
    "    # memory_usage runs the function and returns a list of memory samples\n",
    "    mem_samples = memory_usage(fit_func, interval=0.01)\n",
    "    peak_mem = max(mem_samples)\n",
    "\n",
    "    # 2. Measure Runtime\n",
    "    # Time a second run to get a more stable execution time after any caching\n",
    "    start_time = time.perf_counter()\n",
    "    fit_func()\n",
    "    end_time = time.perf_counter()\n",
    "    runtime = end_time - start_time\n",
    "\n",
    "    print(f\"Runtime:         {runtime:.4f} seconds\")\n",
    "    print(f\"Peak Memory:     {peak_mem:.2f} MiB\")\n",
    "    return runtime, peak_mem\n",
    "\n",
    "if __name__ == \"__main__\":\n",
    "    # --- Configuration ---\n",
    "    N_SAMPLES = 200\n",
    "    N_FEATURES = 30000\n",
    "    N_STATES = 10  # Number of unique values per feature\n",
    "    K_FEATURES_TO_SELECT = 100\n",
    "\n",
    "    # --- Data Generation ---\n",
    "    X_data, y_data = generate_data(N_SAMPLES, N_FEATURES, N_STATES)\n",
    "    feature_names = [f'feature_{i}' for i in range(N_FEATURES)]\n",
    "\n",
    "    X_pandas = pd.DataFrame(X_data, columns=feature_names)\n",
    "\n",
    "    y_pandas = pd.Series(y_data, name='target')\n",
    "\n",
    "    # --- Define Estimators ---\n",
    "    estimators = {\n",
    "        \"My mRMR (Numba)\": My_mRMR(\n",
    "            n_features_to_select=K_FEATURES_TO_SELECT,\n",
    "            method='MID',\n",
    "            backend='gpu'\n",
    "        ),\n",
    "        \"mrmr_selection\": mrmr_classif(\n",
    "            X=X_pandas, y=y_pandas, K=K_FEATURES_TO_SELECT\n",
    "        )\n",
    "    }\n",
    "    \n",
    "    # --- Run Benchmarks ---\n",
    "    # Note: mrmr_selection's fit is done during initialization\n",
    "    # We will benchmark its core selection logic if possible, or just the init.\n",
    "    # For a fair comparison, we benchmark the fit() method where it exists.\n",
    "    \n",
    "    # Benchmark your implementation\n",
    "    benchmark_estimator(\"My mRMR (Numba)\", estimators[\"My mRMR (Numba)\"], X_data, y_data)\n",
    "    \n",
    "    # Benchmark mrmr_selection\n",
    "    # Its main work is done in the function call, not a separate .fit()\n",
    "    print(\"\\n--- Benchmarking: mrmr_selection ---\")\n",
    "    \n",
    "    target_func = lambda: mrmr_classif(X=X_pandas, y=y_pandas, K=K_FEATURES_TO_SELECT)\n",
    "    \n",
    "    mem_samples = memory_usage(target_func, interval=0.01)\n",
    "    peak_mem = max(mem_samples)\n",
    "    \n",
    "    start_time = time.perf_counter()\n",
    "    selected_features = target_func()\n",
    "    end_time = time.perf_counter()\n",
    "    runtime = end_time - start_time\n",
    "    \n",
    "    print(f\"Runtime:         {runtime:.4f} seconds\")\n",
    "    print(f\"Peak Memory:     {peak_mem:.2f} MiB\")\n",
    "    print(f\"Selected features: {selected_features}\")\n"
   ]
  },
  {
   "cell_type": "code",
   "execution_count": 1,
   "id": "fe275d4e",
   "metadata": {},
   "outputs": [
    {
     "name": "stdout",
     "output_type": "stream",
     "text": [
      "/home/galynch/snap/snapd-desktop-integration/253/Desktop/FastSelect\n"
     ]
    }
   ],
   "source": [
    "%cd .."
   ]
  },
  {
   "cell_type": "code",
   "execution_count": null,
   "id": "02f2ba75",
   "metadata": {},
   "outputs": [],
   "source": []
  }
 ],
 "metadata": {
  "kernelspec": {
   "display_name": "Python 3 (ipykernel)",
   "language": "python",
   "name": "python3"
  },
  "language_info": {
   "codemirror_mode": {
    "name": "ipython",
    "version": 3
   },
   "file_extension": ".py",
   "mimetype": "text/x-python",
   "name": "python",
   "nbconvert_exporter": "python",
   "pygments_lexer": "ipython3",
   "version": "3.10.12"
  }
 },
 "nbformat": 4,
 "nbformat_minor": 5
}
